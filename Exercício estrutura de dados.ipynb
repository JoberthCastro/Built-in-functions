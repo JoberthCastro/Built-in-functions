{
 "cells": [
  {
   "cell_type": "markdown",
   "id": "808419af-ad55-48b1-ac9a-7aeff62e4bf1",
   "metadata": {},
   "source": [
    "# Lista de exercicios para Estrutura de dados"
   ]
  },
  {
   "cell_type": "markdown",
   "id": "879e5eb3-2c73-4d0c-a394-f3640fd8d205",
   "metadata": {
    "jp-MarkdownHeadingCollapsed": true
   },
   "source": [
    "## 1. Crie um código para imprimir a soma dos elementos de cada uma das listas contidas na seguinte lista:\n",
    "```python \n",
    "lista_de_listas = [[4,6,5,9], [1,0,7,2], [3,4,1,8]]\n",
    "```"
   ]
  },
  {
   "cell_type": "code",
   "execution_count": 6,
   "id": "39709375-6de9-4938-a616-bec7496c6a53",
   "metadata": {},
   "outputs": [
    {
     "data": {
      "text/plain": [
       "[24, 10, 16]"
      ]
     },
     "execution_count": 6,
     "metadata": {},
     "output_type": "execute_result"
    }
   ],
   "source": [
    "lista_de_listas = [[4,6,5,9], [1,0,7,2], [3,4,1,8]]\n",
    "lista_soma = [sum(i) for i in lista_de_listas]\n",
    "lista_soma"
   ]
  },
  {
   "cell_type": "markdown",
   "id": "60d09f11-6d03-49a5-afa6-e2e9388356e4",
   "metadata": {
    "jp-MarkdownHeadingCollapsed": true
   },
   "source": [
    "## 2. Crie um código para gerar uma lista que armazena o terceiro elemento de cada tupla contida na seguinte lista de tuplas:\n",
    "\n",
    "```python \n",
    "lista_de_tuplas = [('Pedro', 1.74, 81), ('Júlia', 1.65, 67), ('Otávio', 1.81, 83)]\n",
    "```"
   ]
  },
  {
   "cell_type": "code",
   "execution_count": 10,
   "id": "450783d1-bf01-4356-932b-54c1b26818d6",
   "metadata": {},
   "outputs": [
    {
     "data": {
      "text/plain": [
       "[81, 67, 83]"
      ]
     },
     "execution_count": 10,
     "metadata": {},
     "output_type": "execute_result"
    }
   ],
   "source": [
    "lista_de_tuplas = [('Pedro', 1.74, 81), ('Júlia', 1.65, 67), ('Otávio', 1.81, 83)]\n",
    "lista_n = [i[2] for i in lista_de_tuplas]\n",
    "lista_n"
   ]
  },
  {
   "cell_type": "markdown",
   "id": "6de67ffb-66ce-4cea-ae22-79af7c25feb3",
   "metadata": {
    "jp-MarkdownHeadingCollapsed": true
   },
   "source": [
    "## 3. A partir da , crie um código para gerar uma lista de tuplas em que cada tupla tenha o primeiro elemento como a posição do nome na lista original e o segundo elemento sendo o próprio nome.\n",
    "\n",
    "```python \n",
    "lista = ['Pedro', 'Júlia', 'Otávio', 'Eduardo']\n",
    "```"
   ]
  },
  {
   "cell_type": "code",
   "execution_count": 51,
   "id": "34f31d73-00e3-4060-b3a0-a912024552d3",
   "metadata": {},
   "outputs": [
    {
     "data": {
      "text/plain": [
       "[(0, 'Pedro'), (1, 'Júlia'), (2, 'Otávio'), (3, 'Eduardo')]"
      ]
     },
     "execution_count": 51,
     "metadata": {},
     "output_type": "execute_result"
    }
   ],
   "source": [
    "lista = ['Pedro', 'Júlia', 'Otávio', 'Eduardo']\n",
    "lista_t = [i for i in enumerate(lista)]\n",
    "lista_t"
   ]
  },
  {
   "cell_type": "markdown",
   "id": "6541b4a7-a2fd-4fb6-ac60-316b1dfcd89b",
   "metadata": {
    "jp-MarkdownHeadingCollapsed": true
   },
   "source": [
    "## 4. Crie uma lista usando o list comprehension que armazena somente o valor numérico de cada tupla caso o primeiro elemento seja 'Apartamento', a partir da seguinte lista de tuplas:\n",
    "\n",
    "```python \n",
    "aluguel = [('Apartamento', 1700), ('Apartamento', 1400), ('Casa', 2150), ('Apartamento', 1900), ('Casa', 1100)]\n",
    "```"
   ]
  },
  {
   "cell_type": "code",
   "execution_count": 55,
   "id": "c7107d61-0062-4dc5-b4c3-28e3e8480f5d",
   "metadata": {},
   "outputs": [
    {
     "data": {
      "text/plain": [
       "[1700, 1400, 1900]"
      ]
     },
     "execution_count": 55,
     "metadata": {},
     "output_type": "execute_result"
    }
   ],
   "source": [
    "aluguel = [('Apartamento', 1700), ('Apartamento', 1400), ('Casa', 2150), ('Apartamento', 1900), ('Casa', 1100)]\n",
    "\n",
    "aluguel_apartamento = [i[1] for i in aluguel if i[0] == 'Apartamento']\n",
    "aluguel_apartamento"
   ]
  },
  {
   "cell_type": "markdown",
   "id": "d60d2fda-34eb-456e-abc9-f390c7475a0d",
   "metadata": {
    "jp-MarkdownHeadingCollapsed": true
   },
   "source": [
    "## Crie um dicionário usando o dict comprehension em que as chaves estão na lista MESES e os valores estão em DESPESAS .\n",
    "\n",
    "```python\n",
    "meses = ['Jan', 'Fev', 'Mar', 'Abr', 'Mai', 'Jun', 'Jul', 'Ago', 'Set', 'Out', 'Nov', 'Dez']\n",
    "despesa = [860, 490, 1010, 780, 900, 630, 590, 770, 620, 560, 840, 360]\n",
    "```"
   ]
  },
  {
   "cell_type": "code",
   "execution_count": 99,
   "id": "e01a9293-2204-4cfe-b4b9-b91169dcf9e0",
   "metadata": {},
   "outputs": [
    {
     "name": "stdout",
     "output_type": "stream",
     "text": [
      "{'Jan': 860, 'Fev': 490, 'Mar': 1010, 'Abr': 780, 'Mai': 900, 'Jun': 630, 'Jul': 590, 'Ago': 770, 'Set': 620, 'Out': 560, 'Nov': 840, 'Dez': 360}\n"
     ]
    }
   ],
   "source": [
    "meses = ['Jan', 'Fev', 'Mar', 'Abr', 'Mai', 'Jun', 'Jul', 'Ago', 'Set', 'Out', 'Nov', 'Dez']\n",
    "despesa = [860, 490, 1010, 780, 900, 630, 590, 770, 620, 560, 840, 360]\n",
    "\n",
    "# Criar o dicionário usando compreensão de dicionário\n",
    "dicionario = {mes: desp for mes, desp in zip(meses, despesa)}\n",
    "\n",
    "print(dicionario)\n"
   ]
  },
  {
   "cell_type": "markdown",
   "id": "f0d197cc-56d1-4ef5-be5b-c07abb2a642f",
   "metadata": {},
   "source": [
    "## 6. Uma loja possui um banco de dados com a informação de venda de cada representante e de cada ano e precisa filtrar somente os dados do ano 2022 com venda maior do que 6000. A loja forneceu uma amostra contendo apenas as colunas com os anos e os valores de venda para que você ajude a realizar a filtragem dos dados a partir de um código:\n",
    "\n",
    "```python\n",
    "vendas = [('2023', 4093), ('2021', 4320), ('2021', 5959), ('2022', 8883), ('2023', 9859), ('2022', 5141), ('2022', 7688), ('2022', 9544), ('2023', 4794), ('2021', 7178), ('2022', 3030), ('2021', 7471), ('2022', 4226), ('2022', 8190), ('2021', 9680), ('2022', 5616)]\n",
    "```"
   ]
  },
  {
   "cell_type": "code",
   "execution_count": 121,
   "id": "0c68f25e-7117-4d63-a5c9-bb6b24910bf1",
   "metadata": {},
   "outputs": [
    {
     "data": {
      "text/plain": [
       "[('2022', 8883), ('2022', 7688), ('2022', 9544), ('2022', 8190)]"
      ]
     },
     "execution_count": 121,
     "metadata": {},
     "output_type": "execute_result"
    }
   ],
   "source": [
    "vendas = [('2023', 4093), ('2021', 4320), ('2021', 5959), ('2022', 8883), ('2023', 9859), ('2022', 5141), ('2022', 7688), ('2022', 9544), ('2023', 4794), ('2021', 7178), ('2022', 3030), ('2021', 7471), ('2022', 4226), ('2022', 8190), ('2021', 9680), ('2022', 5616)]\n",
    "\n",
    "vendas_filtradas = [(ano, valor) for ano, valor in vendas if (ano == \"2022\") if (valor > 6000)]\n",
    "\n",
    "vendas_filtradas"
   ]
  },
  {
   "cell_type": "markdown",
   "id": "6ea37630-6275-4029-a8f8-f61ce9d5bdad",
   "metadata": {},
   "source": [
    "## 7. Uma clínica analisa dados de pacientes e armazena o valor numérico da glicose em um banco de dados e gostaria de rotular os dados da seguinte maneira:\n",
    "\n",
    "- Glicose igual ou inferior a 70: 'Hipoglicemia'\n",
    "- Glicose entre 70 a 99: 'Normal'\n",
    "- Glicose entre 100 e 125: 'Alterada'\n",
    "- Glicose superior a 125: 'Diabetes'\n",
    "\n",
    "A clínica disponibilizou parte dos valores e sua tarefa é criar uma lista de tuplas usando list comprehension contendo o rótulo e o valor da glicemia em cada tupla.\n",
    "\n",
    "```python\n",
    "glicemia = [129, 82, 60, 97, 101, 65, 62, 167, 87, 53, 58, 92, 66, 120, 109, 62, 86, 96, 103, 88, 155, 52, 89, 73]\n",
    "```"
   ]
  },
  {
   "cell_type": "code",
   "execution_count": 136,
   "id": "086edcbe-5016-4e0c-90b3-eab0caf7e1dc",
   "metadata": {},
   "outputs": [
    {
     "name": "stdout",
     "output_type": "stream",
     "text": [
      "['Superior', 'Normal', 'Hipoglicemia', 'Normal', 'Alterada', 'Hipoglicemia', 'Hipoglicemia', 'Superior', 'Normal', 'Hipoglicemia', 'Hipoglicemia', 'Normal', 'Hipoglicemia', 'Alterada', 'Alterada', 'Hipoglicemia', 'Normal', 'Normal', 'Alterada', 'Normal', 'Superior', 'Hipoglicemia', 'Normal', 'Normal']\n"
     ]
    }
   ],
   "source": [
    "glicemia = [129, 82, 60, 97, 101, 65, 62, 167, 87, 53, 58, 92, 66, 120, 109, 62, 86, 96, 103, 88, 155, 52, 89, 73]\n",
    "\n",
    "resultado = [\n",
    "    \"Hipoglicemia\" if valor <= 70 else \n",
    "    \"Normal\" if 70 <= valor <= 99 else\n",
    "    \"Alterada\" if 100 <= valor <= 125 else\n",
    "    \"Superior\"\n",
    "    for valor in glicemia\n",
    "]\n",
    "\n",
    "print(resultado)\n"
   ]
  },
  {
   "cell_type": "markdown",
   "id": "84bfb019-5e2e-4ee3-9cf5-0fbe52bd62ef",
   "metadata": {},
   "source": [
    "## 8. Um e-commerce possui as informações de id de venda, quantidade vendida e preço do produto divididos nas seguintes listas:\n",
    "\n",
    "```python \n",
    "id = [0, 1, 2, 3, 4, 5, 6, 7, 8, 9]\r\n",
    "quantidade = [15, 12, 1, 15, 2, 11, 2, 12, 2, 4]\r\n",
    "preco = [93.0, 102.0, 18.0, 41.0, 122.0, 14.0, 71.0, 48.0, 14.0, 144.0]\n",
    "`\n",
    "O e-commerce precisa estruturar esses dados em uma tabela contendo o valor total da venda, que é obtida multiplicando a quantidade pelo preço unitário. Além disso, a tabela precisa conter um cabeçalho indicando as colunas: 'id', 'quantidade', 'preco' e 'total'.\r\n",
    "\r\n",
    "Crie uma lista de tuplas em que cada tupla tenha id, quantidade, preço e valor total, na qual a primeira tupla é o cabeçalho da tabela.``"
   ]
  },
  {
   "cell_type": "code",
   "execution_count": 169,
   "id": "82fc985a-3ecd-4fe3-a3ec-866b479bf76b",
   "metadata": {},
   "outputs": [
    {
     "data": {
      "text/plain": [
       "['id: 0,quantidad: 15, preço: 93.0, total = 1395.0',\n",
       " 'id: 1,quantidad: 12, preço: 102.0, total = 1224.0',\n",
       " 'id: 2,quantidad: 1, preço: 18.0, total = 18.0',\n",
       " 'id: 3,quantidad: 15, preço: 41.0, total = 615.0',\n",
       " 'id: 4,quantidad: 2, preço: 122.0, total = 244.0',\n",
       " 'id: 5,quantidad: 11, preço: 14.0, total = 154.0',\n",
       " 'id: 6,quantidad: 2, preço: 71.0, total = 142.0',\n",
       " 'id: 7,quantidad: 12, preço: 48.0, total = 576.0',\n",
       " 'id: 8,quantidad: 2, preço: 14.0, total = 28.0',\n",
       " 'id: 9,quantidad: 4, preço: 144.0, total = 576.0']"
      ]
     },
     "execution_count": 169,
     "metadata": {},
     "output_type": "execute_result"
    }
   ],
   "source": [
    "id = [0, 1, 2, 3, 4, 5, 6, 7, 8, 9]\n",
    "quantidade = [15, 12, 1, 15, 2, 11, 2, 12, 2, 4]\n",
    "preco = [93.0, 102.0, 18.0, 41.0, 122.0, 14.0, 71.0, 48.0, 14.0, 144.0]\n",
    "\n",
    "total = [q*p for q,p in zip(quantidade,preco)]\n",
    "\n",
    "tuplas = [(f\"id: {i},quantidad: {q}, preço: {p}, total = {t}\")for i,q,p,t in zip(id,quantidade,preco,total)]\n",
    "tuplas"
   ]
  },
  {
   "cell_type": "code",
   "execution_count": 163,
   "id": "fb0781e3-c6b6-4d61-a843-421ee431b3ff",
   "metadata": {},
   "outputs": [
    {
     "name": "stdout",
     "output_type": "stream",
     "text": [
      "[(15, 93.0), (12, 102.0), (1, 18.0), (15, 41.0), (2, 122.0), (11, 14.0), (2, 71.0), (12, 48.0), (2, 14.0), (4, 144.0)]\n"
     ]
    }
   ],
   "source": [
    "print(list(zip(quantidade,preco)))"
   ]
  },
  {
   "cell_type": "markdown",
   "id": "ee8bfdb7-c9f9-4cdc-9f54-f43f3902aec6",
   "metadata": {},
   "source": [
    "## 9. Uma empresa possui filiais espalhadas nos Estados da região Sudeste do Brasil. Em uma das tabelas de cadastro das filiais há uma coluna contendo a informação de qual é o Estado a que pertence: estados = ['SP', 'ES', 'MG', 'MG', 'SP', 'MG', 'ES', 'ES', 'ES', 'SP', 'SP', 'MG', 'ES', 'SP', 'RJ', 'MG', 'RJ', 'SP', 'MG', 'SP', 'ES', 'SP', 'MG'].\r\n",
    "\r\n",
    "A empresa sempre está abrindo novas filiais, de modo que a tabela está constantemente recebendo novos registros e o gestor gostaria de possuir a informação atualizada da quantidade de filiais em cada Estado.\r\n",
    "\r\n",
    "A partir da coluna com a informação dos Estados, crie um dicionário usando dict comprehension com a chave sendo o nome de um Estado e o valor sendo a contagem de vezes em que o Estado aparece na lista."
   ]
  },
  {
   "cell_type": "code",
   "execution_count": 178,
   "id": "da647e83-368d-4258-88ca-9a320f537eda",
   "metadata": {},
   "outputs": [
    {
     "name": "stdout",
     "output_type": "stream",
     "text": [
      "{'ES': 6, 'RJ': 2, 'MG': 7, 'SP': 8}\n"
     ]
    }
   ],
   "source": [
    "estados = ['SP', 'ES', 'MG', 'MG', 'SP', 'MG', 'ES', 'ES', 'ES', 'SP', \n",
    "           'SP', 'MG', 'ES', 'SP', 'RJ', 'MG', 'RJ', 'SP', 'MG', 'SP', \n",
    "           'ES', 'SP', 'MG']\n",
    "\n",
    "# Criando uma sublista para cada estado único\n",
    "agrupados = {estado: len([e for e in estados if e == estado]) for estado in set(estados)}\n",
    "\n",
    "print(agrupados)"
   ]
  },
  {
   "cell_type": "markdown",
   "id": "24117c03-c14b-4d98-a50d-bdc3d067dc77",
   "metadata": {},
   "source": [
    "## 10. Nessa mesma tabela de cadastro de filiais, há uma coluna com as informações da quantidade de pessoas colaboradoras e o(a) gestor(a) gostaria de ter um agrupamento da soma dessas pessoas para cada estado. As informações contidas na tabela são:\n",
    "\n",
    "funcionarios = [('SP', 16), ('ES', 8), ('MG', 9), ('MG', 6), ('SP', 10), ('MG', 4), ('ES',9), ('ES', 7), ('ES', 12), ('SP', 7), ('SP', 11), ('MG',8), ('ES',8), ('SP',9), ('RJ', 13), ('MG', 5), ('RJ', 9), ('SP', 12), ('MG', 10), ('SP', 7), ('ES', 14), ('SP', 10), ('MG', 12)]\n",
    "Copiar código\n",
    "A partir da lista de tuplas, crie um dicionário em que as chaves são os nomes dos Estados únicos e os valores são as listas com o número de colaboradores(as) referentes ao Estado. Crie também um dicionário em que as chaves são os nomes dos Estados e os valores são a soma de colaboradores(as) por Estado."
   ]
  },
  {
   "cell_type": "code",
   "execution_count": 192,
   "id": "a9595923-267f-4ea4-852b-80a1c373a068",
   "metadata": {},
   "outputs": [
    {
     "data": {
      "text/plain": [
       "{'ES': 58, 'RJ': 22, 'MG': 54, 'SP': 82}"
      ]
     },
     "execution_count": 192,
     "metadata": {},
     "output_type": "execute_result"
    }
   ],
   "source": [
    "funcionarios = [('SP', 16), ('ES', 8), ('MG', 9), ('MG', 6), ('SP', 10), ('MG', 4), ('ES',9), ('ES', 7), ('ES', 12), ('SP', 7), ('SP', 11), ('MG',8), ('ES',8), ('SP',9), ('RJ', 13), ('MG', 5), ('RJ', 9), ('SP', 12), ('MG', 10), ('SP', 7), ('ES', 14), ('SP', 10), ('MG', 12)]\n",
    "\n",
    "separação = {estado: sum([n for estado_t,n in funcionarios if estado == estado_t]) for estado in set(e[0] for e in funcionarios)}\n",
    "separação"
   ]
  }
 ],
 "metadata": {
  "kernelspec": {
   "display_name": "Python 3 (ipykernel)",
   "language": "python",
   "name": "python3"
  },
  "language_info": {
   "codemirror_mode": {
    "name": "ipython",
    "version": 3
   },
   "file_extension": ".py",
   "mimetype": "text/x-python",
   "name": "python",
   "nbconvert_exporter": "python",
   "pygments_lexer": "ipython3",
   "version": "3.11.7"
  }
 },
 "nbformat": 4,
 "nbformat_minor": 5
}
