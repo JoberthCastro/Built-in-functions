{
 "cells": [
  {
   "cell_type": "markdown",
   "id": "9082273b-cb65-4f49-9632-9d92d9020785",
   "metadata": {},
   "source": [
    "# Vamos praticar o que aprendemos até aqui solucionando os problemas propostos em código.\r\n",
    "\r\n"
   ]
  },
  {
   "cell_type": "markdown",
   "id": "10744bf4-47a3-4a3b-80f4-ccf8d3bffc20",
   "metadata": {},
   "source": [
    "## Aquecimento\n"
   ]
  },
  {
   "cell_type": "markdown",
   "id": "c0cc8169-9c95-422c-bf76-dae71c3499d3",
   "metadata": {
    "jp-MarkdownHeadingCollapsed": true
   },
   "source": [
    "### 1. Escreva um código que lê a lista abaixo e faça:"
   ]
  },
  {
   "cell_type": "markdown",
   "id": "6f4885e6-3ae6-4da6-aaab-fc902349a6f3",
   "metadata": {},
   "source": [
    "### 1. Escreva um código que lê a lista abaixo e faça:\n",
    "```python\n",
    "lista = [16, 14, 63, 65, 17, 99, 70, 11, 20, 48, 79, 32, 17, 89, 12, 25, 66]\n",
    "```\n",
    "* A leitura do tamanho da lista\n",
    "* A leitura do maior e menor valor\n",
    "* A soma dos valores da lista\n",
    "\n",
    "Ao final exiba uma mensagem dizendo:\n",
    "\n",
    "A lista possui [<font color = blue>tam</font>] números em que o maior número é [<font color = blue>maior </font>] e o menor número é [<font color = blue>menor</font>]. A soma dos valores presentes nela é igual a [<font color = blue>soma</font>]\n",
    "\n",
    "#### Nota Joberth: Consegui pensar em mais de um metodo para resolver o problema de deixar menor ou maior valor"
   ]
  },
  {
   "cell_type": "code",
   "execution_count": 1,
   "id": "b0ae3b3b-de95-49b0-8a2f-ee93136f66e8",
   "metadata": {},
   "outputs": [],
   "source": [
    "#Declarando lista\n",
    "lista = [16, 14, 63, 65, 17, 99, 70, 11, 20, 48, 79, 32, 17, 89, 12, 25, 66]"
   ]
  },
  {
   "cell_type": "code",
   "execution_count": 28,
   "id": "513c374f-dc86-4118-88cd-7a0ac46a4b13",
   "metadata": {},
   "outputs": [
    {
     "data": {
      "text/plain": [
       "17"
      ]
     },
     "execution_count": 28,
     "metadata": {},
     "output_type": "execute_result"
    }
   ],
   "source": [
    "#A leitura do tamanho da lista\n",
    "t_lista = len(lista)\n",
    "t_lista"
   ]
  },
  {
   "cell_type": "code",
   "execution_count": 37,
   "id": "dc6151ce-d8e2-4dfc-a122-15ac2b9e3a71",
   "metadata": {},
   "outputs": [
    {
     "name": "stdout",
     "output_type": "stream",
     "text": [
      "11\n",
      "11\n"
     ]
    },
    {
     "data": {
      "text/plain": [
       "11"
      ]
     },
     "execution_count": 37,
     "metadata": {},
     "output_type": "execute_result"
    }
   ],
   "source": [
    "#A leitura do maior e menor valor\n",
    "print(min(lista))\n",
    "\n",
    "#Ou com repetição:\n",
    "v = lista[0]\n",
    "for n in lista:\n",
    "    if n < v:\n",
    "        v = n\n",
    "print(v)\n",
    "\n",
    "#Função:\n",
    "def valor_menor(lista):\n",
    "    menor = lista[0]\n",
    "    for n in lista:\n",
    "        if n < menor:\n",
    "            menor = n\n",
    "    return menor\n",
    "    \n",
    "vme = valor_menor(lista)\n",
    "vme"
   ]
  },
  {
   "cell_type": "code",
   "execution_count": 38,
   "id": "f3806bb5-264f-4f36-a09e-a8b655f5f282",
   "metadata": {},
   "outputs": [
    {
     "name": "stdout",
     "output_type": "stream",
     "text": [
      "99\n",
      "99\n"
     ]
    },
    {
     "data": {
      "text/plain": [
       "99"
      ]
     },
     "execution_count": 38,
     "metadata": {},
     "output_type": "execute_result"
    }
   ],
   "source": [
    "#A leitura do maior e menor valor\n",
    "print(max(lista))\n",
    "\n",
    "#Ou com repetição:\n",
    "v = lista[0]\n",
    "for n in lista:\n",
    "    if n > m:\n",
    "        m = n\n",
    "print(m)\n",
    "\n",
    "#Função:\n",
    "def valor_maior(lista):\n",
    "    maior = lista[0]\n",
    "    for n in lista:\n",
    "        if n > maior:\n",
    "            maior = n\n",
    "    return maior\n",
    "    \n",
    "vm = valor_maior(lista)\n",
    "vm"
   ]
  },
  {
   "cell_type": "code",
   "execution_count": 39,
   "id": "3beda884-8b4d-4db5-b654-9540d73ed904",
   "metadata": {},
   "outputs": [
    {
     "data": {
      "text/plain": [
       "743"
      ]
     },
     "execution_count": 39,
     "metadata": {},
     "output_type": "execute_result"
    }
   ],
   "source": [
    "# A soma dos valores da lista\n",
    "soma = sum(lista)\n",
    "soma"
   ]
  },
  {
   "cell_type": "code",
   "execution_count": 41,
   "id": "93a80bd2-5afd-4631-b020-66b6534ffeb4",
   "metadata": {},
   "outputs": [
    {
     "name": "stdout",
     "output_type": "stream",
     "text": [
      "A lista possui 17 números em que o maior número é 99 e o menor número é 11. A soma dos valores presentes nela é igual a 743\n"
     ]
    }
   ],
   "source": [
    "print(f\"A lista possui {t_lista} números em que o maior número é {vm} e o menor número é {vme}. A soma dos valores presentes nela é igual a {soma}\")"
   ]
  },
  {
   "cell_type": "markdown",
   "id": "ec9991af-790f-4840-a654-26de4f175064",
   "metadata": {},
   "source": [
    "### 2. Escreva uma função que gere a tabuada de um número inteiro de 1 a 10, de acordo com a escolha da pessoa usuária. Como exemplo, para o número 7, a tabuada deve ser mostrada no seguinte formato:"
   ]
  },
  {
   "cell_type": "code",
   "execution_count": 58,
   "id": "a9aa84cd-c936-4f82-bb96-9667eb78c7e2",
   "metadata": {},
   "outputs": [
    {
     "name": "stdout",
     "output_type": "stream",
     "text": [
      "Tabuada do 2:\n",
      "2 x 0 = 0\n",
      "2 x 1 = 2\n",
      "2 x 2 = 4\n",
      "2 x 3 = 6\n",
      "2 x 4 = 8\n",
      "2 x 5 = 10\n",
      "2 x 6 = 12\n",
      "2 x 7 = 14\n",
      "2 x 8 = 16\n",
      "2 x 9 = 18\n",
      "2 x 10 = 20\n"
     ]
    }
   ],
   "source": [
    "def tabuada(numero: int):\n",
    "    \n",
    "    \"\"\" \n",
    "    Função que gera a tabuada\n",
    "    numero:int\n",
    "    \"\"\"\n",
    "    print(f'Tabuada do {numero}:')\n",
    "    for i in range(11):\n",
    "        resultado = numero * i\n",
    "        print(f'{numero} x {i} = {resultado}')\n",
    "\n",
    "# lendo a tabuada do número escolhido\n",
    "tabuada(2)"
   ]
  },
  {
   "cell_type": "markdown",
   "id": "e0921f21-bd7d-4f71-a825-aa02b67aa0a0",
   "metadata": {},
   "source": [
    "### 3. Crie a função que leia a lista abaixo e retorne uma nova lista com os múltiplos de 3:\n",
    "```python \n",
    "lista = [97, 80, 94, 88, 80, 1, 16, 53, 62, 32, 24, 99]\n",
    "```\r\n"
   ]
  },
  {
   "cell_type": "code",
   "execution_count": 59,
   "id": "0e3e2219-3c19-4e6c-8cc4-3e2ca5fc69ba",
   "metadata": {},
   "outputs": [
    {
     "data": {
      "text/plain": [
       "[24, 99]"
      ]
     },
     "execution_count": 59,
     "metadata": {},
     "output_type": "execute_result"
    }
   ],
   "source": [
    "# Lista do exercicio\n",
    "lista = [97, 80, 94, 88, 80, 1, 16, 53, 62, 32, 24, 99]\n",
    "\n",
    "# Declarando uma lista vazia para armazenar os múltiplos de 3\n",
    "mult_3 = []\n",
    "\n",
    "# Função para gerar uma lista dos múltiplos de 3 a partir de uma lista\n",
    "def multiplo_3(lista: list) -> list:\n",
    "    # Lista temporária para armazenar os múltiplos de 3\n",
    "    mult_3_temp = []\n",
    "    for i in range(len(lista)):\n",
    "        # Condição para verificar se o número é múltiplo de 3\n",
    "        if lista[i] % 3 == 0:\n",
    "            mult_3_temp.append(lista[i])\n",
    "    return mult_3_temp\n",
    "\n",
    "# Retornando a lista gerada para a variável mult_3\n",
    "mult_3 = multiplo_3(lista)\n",
    "mult_3\n"
   ]
  },
  {
   "cell_type": "markdown",
   "id": "274c9c12-309e-4870-ad6e-98c20f36739f",
   "metadata": {},
   "source": [
    "### 4. Crie uma lista dos quadrados dos números da seguinte lista:\n",
    "```python\n",
    "[1, 2, 3, 4, 5, 6, 7, 8, 9, 10]\n",
    "```\n",
    "Lembre-se de utilizar as funções lambda e map() para calcular o quadrado de cada elemento da lista"
   ]
  },
  {
   "cell_type": "code",
   "execution_count": 62,
   "id": "a14de9c6-b4db-4bf1-9e96-aad90b872984",
   "metadata": {},
   "outputs": [
    {
     "data": {
      "text/plain": [
       "[1, 4, 9, 16, 25, 36, 49, 64, 81, 100]"
      ]
     },
     "execution_count": 62,
     "metadata": {},
     "output_type": "execute_result"
    }
   ],
   "source": [
    "lista = [1, 2, 3, 4, 5, 6, 7, 8, 9, 10] # Lista do exercicio\n",
    "\n",
    "quadrado = list(map(lambda x: x**2,lista)) #Valor com número ao quadrado\n",
    "quadrado"
   ]
  },
  {
   "cell_type": "markdown",
   "id": "ff19f91d-1bc4-46b8-a459-9ad5f04a8bc2",
   "metadata": {},
   "source": [
    "### 5. Você foi contratado(a) como cientista de dados de uma associação de skate. Para analisar as notas recebidas de skatistas em algumas competições ao longo do ano, você precisa criar um código que calcula a pontuação dos(as) atletas. Para isso, o seu código deve receber 5 notas digitadas pelas pessoas juradas. \n",
    "Obs:\r\n",
    "Para calcular a pontuação de um(a) skatista, você precisa eliminar a maior e a menor pontuação dentre as 5 notas e tirar a média das 3 notas que sobraram. Retorne a média para apresentar o texto: \n",
    "\n",
    "`Nota da manobra: saida`"
   ]
  },
  {
   "cell_type": "code",
   "execution_count": 63,
   "id": "d6102d51-7a40-49da-bdfe-998d964eb756",
   "metadata": {},
   "outputs": [
    {
     "name": "stdin",
     "output_type": "stream",
     "text": [
      "Digite a 1ª nota:  10\n",
      "Digite a 2ª nota:  10\n",
      "Digite a 3ª nota:  5\n",
      "Digite a 4ª nota:  6\n",
      "Digite a 5ª nota:  9\n"
     ]
    },
    {
     "name": "stdout",
     "output_type": "stream",
     "text": [
      "Nota da manobra: 8.3\n"
     ]
    }
   ],
   "source": [
    "# declarando a lista de notas\n",
    "notas = []\n",
    "# laço for para pedir as 5 notas e armazená-las na lista notas\n",
    "for i in range(1,6):\n",
    "  nota = float(input(f\"Digite a {i}ª nota: \"))\n",
    "  notas.append(nota)\n",
    "\n",
    "# Função para remover a maior e menor nota e retornar a média das notas restantes\n",
    "def media(lista):\n",
    "  lista.remove(max(lista))\n",
    "  lista.remove(min(lista))\n",
    "  return sum(lista) / len(lista)\n",
    "\n",
    "# Chamando a função e imprimindo a nota da(o) skatista\n",
    "media = media(notas)\n",
    "print(f\"Nota da manobra: {round(media, 1)}\") "
   ]
  },
  {
   "cell_type": "markdown",
   "id": "22e2fb3c-6e58-4c7d-8f96-9953c34dea57",
   "metadata": {},
   "source": [
    "### 6. Para atender a uma demanda de uma instituição de ensino para a análise do desempenho de seus(suas) estudantes, você precisa criar uma função que receba uma lista de 4 notas e retorne:\n",
    "\n",
    "* maior nota\n",
    "* menor nota\n",
    "* média\n",
    "* situação(Aprovado(a) ou Reprovado(a))\n",
    "\n",
    "Para testar o comportamento da função, os dados podem ser exibidos em um texto:\n",
    "\n",
    "`O(a) estudante obteve uma média de [media], com a sua maior nota de [maior] pontos e a menor nota de [menor] pontos e foi [situacao]`\r\n"
   ]
  },
  {
   "cell_type": "code",
   "execution_count": 64,
   "id": "ff8c6c00-fa6b-4b48-a251-40e36f191e6b",
   "metadata": {},
   "outputs": [
    {
     "name": "stdin",
     "output_type": "stream",
     "text": [
      "Digite a 1ª nota:  10\n",
      "Digite a 2ª nota:  10\n",
      "Digite a 3ª nota:  10\n",
      "Digite a 4ª nota:  10\n"
     ]
    },
    {
     "name": "stdout",
     "output_type": "stream",
     "text": [
      "O(a) estudante obteve uma media de 10.0, com a sua maior nota de 10.0 pontos e a menor nota de 10.0 pontos e foi Aprovado(a)\n"
     ]
    }
   ],
   "source": [
    "# declarando a lista de notas\n",
    "notas = []\n",
    "# laço for para pedir as 4 notas e armazená-las na lista notas\n",
    "for i in range(1,5):\n",
    "  nota = float(input(f\"Digite a {i}ª nota: \"))\n",
    "  notas.append(nota)\n",
    "\n",
    "def cadastro(lista):\n",
    "  maior = max(lista)\n",
    "  menor = min(lista)\n",
    "  media = sum(lista) / len(lista)\n",
    "  if media >= 6:\n",
    "    situacao = \"Aprovado(a)\"\n",
    "  else:\n",
    "    situacao = \"Reprovado(a)\"\n",
    "  \n",
    "  return (media, maior, menor, situacao)\n",
    "\n",
    "media, maior, menor, situacao = cadastro(notas)\n",
    "\n",
    "print(f\"O(a) estudante obteve uma media de {media}, com a sua maior nota de {maior} pontos e a menor nota de {menor} pontos e foi {situacao}\")"
   ]
  },
  {
   "cell_type": "markdown",
   "id": "6a1b750e-9455-493d-91ae-fdba6f9aaef7",
   "metadata": {},
   "source": [
    "### 7. Você recebeu uma demanda para tratar 2 listas com os nomes e sobrenomes de cada estudante concatenando-as para apresentar seus nomes completos na forma Nome Sobrenome. As listas são:\n",
    "\n",
    "nomes = [\"joão\", \"MaRia\", \"JOSÉ\"]\n",
    "\r\n",
    "sobrenomes = [\"SILVA\", \"souza\", \"Tavares\"]\n",
    "\n",
    "O texto exibido ao fim deve ser parecido com (Nome completo: Ana Silva)\n",
    "\r\n",
    "```\r\n",
    "``"
   ]
  },
  {
   "cell_type": "code",
   "execution_count": 65,
   "id": "8573f4ab-7c51-4d64-b43c-507b925460d0",
   "metadata": {},
   "outputs": [
    {
     "name": "stdout",
     "output_type": "stream",
     "text": [
      "Nome completo: João Silva\n",
      "Nome completo: Maria Souza\n",
      "Nome completo: José Tavares\n"
     ]
    }
   ],
   "source": [
    "# Nomes dos estudantes\n",
    "nomes = [\"joão\", \"MaRia\", \"JOSÉ\"]\n",
    "sobrenomes = [\"SILVA\", \"souza\", \"Tavares\"]\n",
    "\n",
    "# Função lambda que recebe duas listas e itera em cada uma concatenando seu nome e sobrenome\n",
    "# na forma desejada\n",
    "nome_completo = map(lambda nome, sobrenome: f'{nome.title()} {sobrenome.title()}', nomes, sobrenomes)\n",
    "\n",
    "# Leitura do objeto mapa(iterável)\n",
    "for n in nome_completo:\n",
    "  print(f'Nome completo: {n}')"
   ]
  },
  {
   "cell_type": "markdown",
   "id": "9189ec94-6cb2-4af1-8241-64c2ee7b81db",
   "metadata": {},
   "source": [
    "### 8. Como cientista de dados em um time de futebol, você precisa implementar novas formas de coleta de dados sobre o desempenho de jogadores e do time como um todo. Sua primeira ação é criar uma forma de calcular a pontuação do time no campeonato nacional a partir dos dados de gols marcados e sofridos em cada jogo.\r",
    "\r\n",
    "Escreva uma função chamad`calcula_pontos`os que recebe como parâmetros duas listas de números inteiros, representando os gols marcados e sofridos pelo time em cada partida do campeonato. A função deve retornar a pontuação do time e o aproveitamento em percentual, levando em consideração que a vitória vale 3 pontos, o empate vale 1 ponto e a derrota 0 pontos."
   ]
  },
  {
   "cell_type": "markdown",
   "id": "9426c893-eb3b-4197-999e-b81b80172d0c",
   "metadata": {},
   "source": [
    "`Observação: se a quantidade de gols marcados numa partida for maior que a de sofridos, o time venceu. Caso seja igual, o time empatou e se for menor, o time perdeu. Para calcular o aproveitamento devemos fazer a razão entre a pontuação do time pela pontuação máxima que ele poderia receber.`\r\n"
   ]
  },
  {
   "cell_type": "markdown",
   "id": "8869a6c5-fa0e-4a16-87c6-dde4ed8eed2b",
   "metadata": {},
   "source": [
    "Para teste, utilize as seguintes listas de gols marcados e sofridos:\n",
    "\n",
    "```python \n",
    "gols_marcados = [2, 1, 3, 1, 0]\n",
    "gols_sofridos = [1, 2, 2, 1, 3]\n",
    "```\n",
    "Provável texto exibido:\r\n",
    "`\"A pontuação do time foi de [pontos] e seu aproveitamento foi de [aprov]%\"`\r\n"
   ]
  },
  {
   "cell_type": "code",
   "execution_count": 66,
   "id": "6f14eb9c-dbe0-41eb-8b1a-775cce348289",
   "metadata": {},
   "outputs": [
    {
     "name": "stdout",
     "output_type": "stream",
     "text": [
      "A pontuação do time foi de 7 e seu aproveitamento foi de 47%\n"
     ]
    }
   ],
   "source": [
    "gols_marcados = [2, 1, 3, 1, 0]\n",
    "gols_sofridos = [1, 2, 2, 1, 3]\n",
    "\n",
    "def calcula_pontos(gols_marcados, gols_sofridos):\n",
    "  pontos = 0\n",
    "  for i in range(len(gols_marcados)):\n",
    "    if gols_marcados[i] > gols_sofridos[i]:\n",
    "      pontos += 3\n",
    "    elif gols_marcados[i] == gols_sofridos[i]:\n",
    "      pontos += 1\n",
    "  aprov = 100 * pontos / (len(gols_marcados) * 3)\n",
    "  return (pontos, aprov)\n",
    "\n",
    "pontos, aprov = calcula_pontos(gols_marcados, gols_sofridos)\n",
    "print(f\"A pontuação do time foi de {pontos} e seu aproveitamento foi de {round(aprov)}%\")"
   ]
  },
  {
   "cell_type": "markdown",
   "id": "b51af648-b67e-4313-9043-8e3162807dcd",
   "metadata": {},
   "source": [
    "### 9. Você recebeu o desafio de criar um código que calcula os gastos de uma viagem para um das quatro cidades partindo de Recife, sendo elas: Salvador, Fortaleza, Natal e Aracaju. O custo da diária do hotel é de 150 reais em todas elas e o consumo de gasolina na viagem de carro é de 14 km/l, sendo que o valor da gasolina é de 5 reais o litro. O gastos com passeios e alimentação a se fazer em cada uma delas por dia seria de `[200, 400, 250, 300]`, respectivamente. Sabendo que as distâncias entre Recife e cada uma das cidades é de aproximadamente `[850, 800, 300, 550]` km, crie três funções nas quais: a 1ª função calcule os gastos com hotel `(gasto_hotel)`, a 2ª calcule os gastos com a gasolina `(gasto_gasolina)` e a 3ª os gastos com passeio e alimentação `(gasto_passeio)`."
   ]
  },
  {
   "cell_type": "markdown",
   "id": "e3a0bc66-1a11-47eb-a707-681b4ae5c272",
   "metadata": {},
   "source": [
    "#### Para testar, simule uma viagem de 3 dias para Salvador partindo de Recife. Considere a viagem de ida e volta de carro\n",
    "`\"Com base nos gastos definidos, uma viagem de [dias] dias para [cidade] saindo de Recife custaria [gastos] reais\"`"
   ]
  },
  {
   "cell_type": "code",
   "execution_count": 68,
   "id": "4a938cdb-6896-47eb-acb4-6ad407c1c64b",
   "metadata": {},
   "outputs": [
    {
     "name": "stdin",
     "output_type": "stream",
     "text": [
      "Quantas diárias?  3\n",
      "Qual a cidade? [Salvador, Fortaleza, Natal ou Aracaju]:  Salvador\n"
     ]
    },
    {
     "name": "stdout",
     "output_type": "stream",
     "text": [
      "Com base nos gastos definidos, uma viagem de 3 dias para Salvador saindo de Recife custaria 1657.14 reais\n"
     ]
    }
   ],
   "source": [
    "dias = int(input(\"Quantas diárias? \"))\n",
    "cidade = input(\"Qual a cidade? [Salvador, Fortaleza, Natal ou Aracaju]: \")\n",
    "distancias = [850, 800, 300, 550]\n",
    "passeio = [200, 400, 250, 300]\n",
    "km_l = 14\n",
    "gasolina = 5\n",
    "\n",
    "def gasto_hotel(dias):\n",
    "    return 150 * dias\n",
    "\n",
    "def gasto_gasolina(cidade):\n",
    "    if cidade == \"Salvador\":\n",
    "        return (2 * distancias[0] * gasolina) / km_l \n",
    "    elif cidade == \"Fortaleza\":\n",
    "        return (2 * distancias[1] * gasolina) / km_l \n",
    "    elif cidade == \"Natal\":\n",
    "        return (2 * distancias[2] * gasolina) / km_l \n",
    "    elif cidade == \"Aracaju\":\n",
    "        return (2 * distancias[3] * gasolina) / km_l \n",
    "\n",
    "def gasto_passeio(cidade, dias):\n",
    "    if cidade==\"Salvador\":\n",
    "        return passeio[0] * dias\n",
    "    elif cidade==\"Fortaleza\":\n",
    "        return passeio[1] * dias\n",
    "    elif cidade==\"Natal\":\n",
    "        return passeio[2] * dias \n",
    "    elif cidade==\"Aracaju\":\n",
    "        return passeio[3] * dias \n",
    "\n",
    "gastos = gasto_hotel(dias) + gasto_gasolina(cidade) + gasto_passeio(cidade, dias)\n",
    "print(f\"Com base nos gastos definidos, uma viagem de {dias} dias para {cidade} saindo de Recife custaria {round(gastos, 2)} reais\")"
   ]
  },
  {
   "cell_type": "markdown",
   "id": "e230920c-1f91-4572-9367-816096949a51",
   "metadata": {},
   "source": [
    "### 10. Você iniciou um estágio em uma empresa que trabalha com processamento de linguagem natural (NLP). Sua líder requisitou que você criasse um trecho de código que recebe uma frase digitada pela pessoa usuária e filtre apenas as palavras com tamanho maior ou igual a 5, exibindo-as em uma lista. Essa demanda é voltada para a análise do padrão de comportamento de pessoas na escrita de palavras acima dessa quantidade de caracteres.\r\n",
    "`\r\n",
    "Dica: utilize as funções lambda e filter() para filtrar essas palavras. Lembrando que a função embutida filter() recebe uma função (no nosso exemplo uma função lambda) e filtra um iterável de acordo com a função. Para tratar a frase use replace() para trocar a ',' '.', '!' e '?' por espaç`o."
   ]
  },
  {
   "cell_type": "code",
   "execution_count": 67,
   "id": "d833419b-c904-4259-9cf8-bb40f2e1630d",
   "metadata": {},
   "outputs": [
    {
     "name": "stdin",
     "output_type": "stream",
     "text": [
      "Digite uma frase:  Fim do exercicio\n"
     ]
    },
    {
     "name": "stdout",
     "output_type": "stream",
     "text": [
      "['exercicio']\n"
     ]
    }
   ],
   "source": [
    "# Requisitando uma frase e separando-a pelos espaços. Usando replace para trocar\n",
    "# pontuações por espaço.\n",
    "frase = input(\"Digite uma frase: \")\n",
    "frase = frase.replace(',',' ').replace('.',' ').replace('!',' ').replace('?',' ').split()\n",
    "\n",
    "# Filtrando a frase no formato de lista, passando para a lista tamanho\n",
    "# apenas as palavras com 5 ou mais caracteres e imprimindo-a na tela\n",
    "tamanho = list(filter(lambda x: len(x) >= 5, frase))\n",
    "print(tamanho)"
   ]
  }
 ],
 "metadata": {
  "kernelspec": {
   "display_name": "Python 3 (ipykernel)",
   "language": "python",
   "name": "python3"
  },
  "language_info": {
   "codemirror_mode": {
    "name": "ipython",
    "version": 3
   },
   "file_extension": ".py",
   "mimetype": "text/x-python",
   "name": "python",
   "nbconvert_exporter": "python",
   "pygments_lexer": "ipython3",
   "version": "3.11.7"
  }
 },
 "nbformat": 4,
 "nbformat_minor": 5
}
